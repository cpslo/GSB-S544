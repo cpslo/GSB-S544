{
  "cells": [
    {
      "cell_type": "raw",
      "metadata": {
        "vscode": {
          "languageId": "raw"
        }
      },
      "source": [
        "---\n",
        "title: \"Palmer Penguins Modeling\"\n",
        "author: \"Jenny Luu\"\n",
        "date: \"2024-11-2\"\n",
        "embed-resources: true\n",
        "format: \n",
        "    html:\n",
        "        code-fold: true\n",
        "theme: \"flatly\" \n",
        "--- "
      ]
    },
    {
      "cell_type": "markdown",
      "metadata": {
        "id": "M3NFTx_UIZjO"
      },
      "source": [
        "# Palmer Penguins Modeling\n",
        "\n",
        "Import the Palmer Penguins dataset and print out the first few rows.\n",
        "\n",
        "Suppose we want to predict `bill_depth_mm` using the other variables in the dataset.\n",
        "\n",
        "Which variables would we need to **dummify**?"
      ]
    },
    {
      "cell_type": "code",
      "execution_count": 2,
      "metadata": {
        "colab": {
          "base_uri": "https://localhost:8080/"
        },
        "id": "XqxP4EPztHJv",
        "outputId": "25bcd19d-0d22-46c5-bbf2-a5d8b2a35ad0"
      },
      "outputs": [
        {
          "name": "stdout",
          "output_type": "stream",
          "text": [
            "Collecting palmerpenguins\r\n",
            "Collecting palmerpenguins\r\n"
          ]
        },
        {
          "name": "stdout",
          "output_type": "stream",
          "text": [
            "  Downloading palmerpenguins-0.1.4-py3-none-any.whl.metadata (2.0 kB)\r\n",
            "Requirement already satisfied: pandas in /opt/anaconda3/lib/python3.12/site-packages (from palmerpenguins) (2.2.2)\r\n",
            "Requirement already satisfied: numpy in /opt/anaconda3/lib/python3.12/site-packages (from palmerpenguins) (1.26.4)\r\n",
            "  Downloading palmerpenguins-0.1.4-py3-none-any.whl.metadata (2.0 kB)\r\n",
            "Requirement already satisfied: pandas in /opt/anaconda3/lib/python3.12/site-packages (from palmerpenguins) (2.2.2)\r\n",
            "Requirement already satisfied: numpy in /opt/anaconda3/lib/python3.12/site-packages (from palmerpenguins) (1.26.4)\r\n"
          ]
        },
        {
          "name": "stdout",
          "output_type": "stream",
          "text": [
            "Requirement already satisfied: python-dateutil>=2.8.2 in /opt/anaconda3/lib/python3.12/site-packages (from pandas->palmerpenguins) (2.9.0.post0)\r\n",
            "Requirement already satisfied: pytz>=2020.1 in /opt/anaconda3/lib/python3.12/site-packages (from pandas->palmerpenguins) (2024.1)\r\n",
            "Requirement already satisfied: tzdata>=2022.7 in /opt/anaconda3/lib/python3.12/site-packages (from pandas->palmerpenguins) (2023.3)\r\n",
            "Requirement already satisfied: six>=1.5 in /opt/anaconda3/lib/python3.12/site-packages (from python-dateutil>=2.8.2->pandas->palmerpenguins) (1.16.0)\r\n",
            "Downloading palmerpenguins-0.1.4-py3-none-any.whl (17 kB)\r\n",
            "Requirement already satisfied: python-dateutil>=2.8.2 in /opt/anaconda3/lib/python3.12/site-packages (from pandas->palmerpenguins) (2.9.0.post0)\r\n",
            "Requirement already satisfied: pytz>=2020.1 in /opt/anaconda3/lib/python3.12/site-packages (from pandas->palmerpenguins) (2024.1)\r\n",
            "Requirement already satisfied: tzdata>=2022.7 in /opt/anaconda3/lib/python3.12/site-packages (from pandas->palmerpenguins) (2023.3)\r\n",
            "Requirement already satisfied: six>=1.5 in /opt/anaconda3/lib/python3.12/site-packages (from python-dateutil>=2.8.2->pandas->palmerpenguins) (1.16.0)\r\n",
            "Downloading palmerpenguins-0.1.4-py3-none-any.whl (17 kB)\r\n"
          ]
        },
        {
          "name": "stdout",
          "output_type": "stream",
          "text": [
            "Installing collected packages: palmerpenguins\r\n",
            "Installing collected packages: palmerpenguins\r\n"
          ]
        },
        {
          "name": "stdout",
          "output_type": "stream",
          "text": [
            "Successfully installed palmerpenguins-0.1.4\r\n",
            "Successfully installed palmerpenguins-0.1.4\r\n"
          ]
        }
      ],
      "source": [
        "!pip install palmerpenguins"
      ]
    },
    {
      "cell_type": "code",
      "execution_count": 3,
      "metadata": {
        "id": "dDD69T-VISjB"
      },
      "outputs": [],
      "source": [
        "from palmerpenguins import load_penguins\n",
        "\n",
        "import pandas as pd\n",
        "import numpy as np\n",
        "from plotnine import *\n",
        "import matplotlib.pyplot as plt\n",
        "import seaborn as sns\n",
        "from sklearn.model_selection import train_test_split\n",
        "from sklearn.linear_model import LinearRegression\n",
        "from sklearn.preprocessing import OneHotEncoder\n",
        "from sklearn.model_selection import train_test_split\n",
        "from sklearn.compose import ColumnTransformer\n",
        "from sklearn.preprocessing import PolynomialFeatures\n",
        "from sklearn.pipeline import Pipeline"
      ]
    },
    {
      "cell_type": "code",
      "execution_count": 4,
      "metadata": {
        "id": "Ytyl1gSUuXDm"
      },
      "outputs": [],
      "source": [
        "penguins = load_penguins()\n",
        "penguins = penguins.dropna()\n"
      ]
    },
    {
      "cell_type": "code",
      "execution_count": 5,
      "metadata": {
        "id": "AP0s9wl355tA"
      },
      "outputs": [],
      "source": [
        "# Drop rows with NaN\n",
        "penguins = penguins.dropna()\n"
      ]
    },
    {
      "cell_type": "code",
      "execution_count": 6,
      "metadata": {
        "colab": {
          "base_uri": "https://localhost:8080/",
          "height": 424
        },
        "id": "4Avv5au052xz",
        "outputId": "193e5a5b-0241-4e91-8129-76e8a3c4e421"
      },
      "outputs": [
        {
          "data": {
            "text/html": [
              "<div>\n",
              "<style scoped>\n",
              "    .dataframe tbody tr th:only-of-type {\n",
              "        vertical-align: middle;\n",
              "    }\n",
              "\n",
              "    .dataframe tbody tr th {\n",
              "        vertical-align: top;\n",
              "    }\n",
              "\n",
              "    .dataframe thead th {\n",
              "        text-align: right;\n",
              "    }\n",
              "</style>\n",
              "<table border=\"1\" class=\"dataframe\">\n",
              "  <thead>\n",
              "    <tr style=\"text-align: right;\">\n",
              "      <th></th>\n",
              "      <th>species</th>\n",
              "      <th>island</th>\n",
              "      <th>bill_depth_mm</th>\n",
              "      <th>flipper_length_mm</th>\n",
              "      <th>body_mass_g</th>\n",
              "      <th>sex</th>\n",
              "      <th>year</th>\n",
              "    </tr>\n",
              "  </thead>\n",
              "  <tbody>\n",
              "    <tr>\n",
              "      <th>257</th>\n",
              "      <td>Gentoo</td>\n",
              "      <td>Biscoe</td>\n",
              "      <td>16.1</td>\n",
              "      <td>215.0</td>\n",
              "      <td>5500.0</td>\n",
              "      <td>male</td>\n",
              "      <td>2009</td>\n",
              "    </tr>\n",
              "    <tr>\n",
              "      <th>309</th>\n",
              "      <td>Chinstrap</td>\n",
              "      <td>Dream</td>\n",
              "      <td>18.8</td>\n",
              "      <td>203.0</td>\n",
              "      <td>4100.0</td>\n",
              "      <td>male</td>\n",
              "      <td>2008</td>\n",
              "    </tr>\n",
              "    <tr>\n",
              "      <th>234</th>\n",
              "      <td>Gentoo</td>\n",
              "      <td>Biscoe</td>\n",
              "      <td>14.6</td>\n",
              "      <td>212.0</td>\n",
              "      <td>4725.0</td>\n",
              "      <td>female</td>\n",
              "      <td>2009</td>\n",
              "    </tr>\n",
              "    <tr>\n",
              "      <th>103</th>\n",
              "      <td>Adelie</td>\n",
              "      <td>Biscoe</td>\n",
              "      <td>20.0</td>\n",
              "      <td>190.0</td>\n",
              "      <td>4250.0</td>\n",
              "      <td>male</td>\n",
              "      <td>2009</td>\n",
              "    </tr>\n",
              "    <tr>\n",
              "      <th>296</th>\n",
              "      <td>Chinstrap</td>\n",
              "      <td>Dream</td>\n",
              "      <td>17.3</td>\n",
              "      <td>181.0</td>\n",
              "      <td>3600.0</td>\n",
              "      <td>female</td>\n",
              "      <td>2007</td>\n",
              "    </tr>\n",
              "    <tr>\n",
              "      <th>...</th>\n",
              "      <td>...</td>\n",
              "      <td>...</td>\n",
              "      <td>...</td>\n",
              "      <td>...</td>\n",
              "      <td>...</td>\n",
              "      <td>...</td>\n",
              "      <td>...</td>\n",
              "    </tr>\n",
              "    <tr>\n",
              "      <th>57</th>\n",
              "      <td>Adelie</td>\n",
              "      <td>Biscoe</td>\n",
              "      <td>18.8</td>\n",
              "      <td>193.0</td>\n",
              "      <td>3800.0</td>\n",
              "      <td>male</td>\n",
              "      <td>2008</td>\n",
              "    </tr>\n",
              "    <tr>\n",
              "      <th>190</th>\n",
              "      <td>Gentoo</td>\n",
              "      <td>Biscoe</td>\n",
              "      <td>13.6</td>\n",
              "      <td>208.0</td>\n",
              "      <td>4350.0</td>\n",
              "      <td>female</td>\n",
              "      <td>2008</td>\n",
              "    </tr>\n",
              "    <tr>\n",
              "      <th>96</th>\n",
              "      <td>Adelie</td>\n",
              "      <td>Dream</td>\n",
              "      <td>18.6</td>\n",
              "      <td>190.0</td>\n",
              "      <td>3700.0</td>\n",
              "      <td>female</td>\n",
              "      <td>2008</td>\n",
              "    </tr>\n",
              "    <tr>\n",
              "      <th>129</th>\n",
              "      <td>Adelie</td>\n",
              "      <td>Torgersen</td>\n",
              "      <td>18.0</td>\n",
              "      <td>210.0</td>\n",
              "      <td>4000.0</td>\n",
              "      <td>male</td>\n",
              "      <td>2009</td>\n",
              "    </tr>\n",
              "    <tr>\n",
              "      <th>273</th>\n",
              "      <td>Gentoo</td>\n",
              "      <td>Biscoe</td>\n",
              "      <td>15.7</td>\n",
              "      <td>222.0</td>\n",
              "      <td>5750.0</td>\n",
              "      <td>male</td>\n",
              "      <td>2009</td>\n",
              "    </tr>\n",
              "  </tbody>\n",
              "</table>\n",
              "<p>249 rows × 7 columns</p>\n",
              "</div>"
            ],
            "text/plain": [
              "       species     island  bill_depth_mm  flipper_length_mm  body_mass_g     sex  year\n",
              "257     Gentoo     Biscoe           16.1              215.0       5500.0    male  2009\n",
              "309  Chinstrap      Dream           18.8              203.0       4100.0    male  2008\n",
              "234     Gentoo     Biscoe           14.6              212.0       4725.0  female  2009\n",
              "103     Adelie     Biscoe           20.0              190.0       4250.0    male  2009\n",
              "296  Chinstrap      Dream           17.3              181.0       3600.0  female  2007\n",
              "..         ...        ...            ...                ...          ...     ...   ...\n",
              "57      Adelie     Biscoe           18.8              193.0       3800.0    male  2008\n",
              "190     Gentoo     Biscoe           13.6              208.0       4350.0  female  2008\n",
              "96      Adelie      Dream           18.6              190.0       3700.0  female  2008\n",
              "129     Adelie  Torgersen           18.0              210.0       4000.0    male  2009\n",
              "273     Gentoo     Biscoe           15.7              222.0       5750.0    male  2009\n",
              "\n",
              "[249 rows x 7 columns]"
            ]
          },
          "execution_count": null,
          "metadata": {},
          "output_type": "execute_result"
        }
      ],
      "source": [
        "X = penguins.drop(\"bill_length_mm\", axis = 1)\n",
        "y = penguins[\"bill_length_mm\"]\n",
        "X_train, X_test, y_train, y_test = train_test_split(X,y,)\n",
        "X_train"
      ]
    },
    {
      "cell_type": "code",
      "execution_count": 7,
      "metadata": {
        "id": "jRxwA4CnAkB8"
      },
      "outputs": [],
      "source": [
        "from sklearn.neighbors import KNeighborsRegressor\n",
        "from sklearn.tree import DecisionTreeRegressor\n",
        "from sklearn.linear_model import LinearRegression\n",
        "\n",
        "knn = KNeighborsRegressor()\n",
        "lr = LinearRegression()\n",
        "dt = DecisionTreeRegressor()\n",
        "enc = OneHotEncoder()"
      ]
    },
    {
      "cell_type": "code",
      "execution_count": 8,
      "metadata": {
        "id": "Loq_lKUis3Wj"
      },
      "outputs": [],
      "source": [
        "# Identify categorical columns that need dummification\n",
        "# 'species', 'island', 'sex'\n",
        "\n",
        "# dummify columns\n",
        "ct = ColumnTransformer(\n",
        "    [(\"spec_dummify\", enc, [\"species\"]),\n",
        "    (\"land_dummify\", enc, [\"island\"]),\n",
        "    (\"sex_dummify\", enc, [\"sex\"])]\n",
        ")\n",
        "\n",
        "# dummify pipeline\n",
        "pipe = Pipeline(\n",
        "    [('dummify', ct), ('ols', lr)]\n",
        ")"
      ]
    },
    {
      "cell_type": "code",
      "execution_count": 9,
      "metadata": {
        "colab": {
          "base_uri": "https://localhost:8080/",
          "height": 221
        },
        "id": "jsps_1NvAIPC",
        "outputId": "5ff92670-fac4-4291-bbf7-343e13178fe7"
      },
      "outputs": [
        {
          "data": {
            "text/html": [
              "<style>#sk-container-id-1 {\n",
              "  /* Definition of color scheme common for light and dark mode */\n",
              "  --sklearn-color-text: black;\n",
              "  --sklearn-color-line: gray;\n",
              "  /* Definition of color scheme for unfitted estimators */\n",
              "  --sklearn-color-unfitted-level-0: #fff5e6;\n",
              "  --sklearn-color-unfitted-level-1: #f6e4d2;\n",
              "  --sklearn-color-unfitted-level-2: #ffe0b3;\n",
              "  --sklearn-color-unfitted-level-3: chocolate;\n",
              "  /* Definition of color scheme for fitted estimators */\n",
              "  --sklearn-color-fitted-level-0: #f0f8ff;\n",
              "  --sklearn-color-fitted-level-1: #d4ebff;\n",
              "  --sklearn-color-fitted-level-2: #b3dbfd;\n",
              "  --sklearn-color-fitted-level-3: cornflowerblue;\n",
              "\n",
              "  /* Specific color for light theme */\n",
              "  --sklearn-color-text-on-default-background: var(--sg-text-color, var(--theme-code-foreground, var(--jp-content-font-color1, black)));\n",
              "  --sklearn-color-background: var(--sg-background-color, var(--theme-background, var(--jp-layout-color0, white)));\n",
              "  --sklearn-color-border-box: var(--sg-text-color, var(--theme-code-foreground, var(--jp-content-font-color1, black)));\n",
              "  --sklearn-color-icon: #696969;\n",
              "\n",
              "  @media (prefers-color-scheme: dark) {\n",
              "    /* Redefinition of color scheme for dark theme */\n",
              "    --sklearn-color-text-on-default-background: var(--sg-text-color, var(--theme-code-foreground, var(--jp-content-font-color1, white)));\n",
              "    --sklearn-color-background: var(--sg-background-color, var(--theme-background, var(--jp-layout-color0, #111)));\n",
              "    --sklearn-color-border-box: var(--sg-text-color, var(--theme-code-foreground, var(--jp-content-font-color1, white)));\n",
              "    --sklearn-color-icon: #878787;\n",
              "  }\n",
              "}\n",
              "\n",
              "#sk-container-id-1 {\n",
              "  color: var(--sklearn-color-text);\n",
              "}\n",
              "\n",
              "#sk-container-id-1 pre {\n",
              "  padding: 0;\n",
              "}\n",
              "\n",
              "#sk-container-id-1 input.sk-hidden--visually {\n",
              "  border: 0;\n",
              "  clip: rect(1px 1px 1px 1px);\n",
              "  clip: rect(1px, 1px, 1px, 1px);\n",
              "  height: 1px;\n",
              "  margin: -1px;\n",
              "  overflow: hidden;\n",
              "  padding: 0;\n",
              "  position: absolute;\n",
              "  width: 1px;\n",
              "}\n",
              "\n",
              "#sk-container-id-1 div.sk-dashed-wrapped {\n",
              "  border: 1px dashed var(--sklearn-color-line);\n",
              "  margin: 0 0.4em 0.5em 0.4em;\n",
              "  box-sizing: border-box;\n",
              "  padding-bottom: 0.4em;\n",
              "  background-color: var(--sklearn-color-background);\n",
              "}\n",
              "\n",
              "#sk-container-id-1 div.sk-container {\n",
              "  /* jupyter's `normalize.less` sets `[hidden] { display: none; }`\n",
              "     but bootstrap.min.css set `[hidden] { display: none !important; }`\n",
              "     so we also need the `!important` here to be able to override the\n",
              "     default hidden behavior on the sphinx rendered scikit-learn.org.\n",
              "     See: https://github.com/scikit-learn/scikit-learn/issues/21755 */\n",
              "  display: inline-block !important;\n",
              "  position: relative;\n",
              "}\n",
              "\n",
              "#sk-container-id-1 div.sk-text-repr-fallback {\n",
              "  display: none;\n",
              "}\n",
              "\n",
              "div.sk-parallel-item,\n",
              "div.sk-serial,\n",
              "div.sk-item {\n",
              "  /* draw centered vertical line to link estimators */\n",
              "  background-image: linear-gradient(var(--sklearn-color-text-on-default-background), var(--sklearn-color-text-on-default-background));\n",
              "  background-size: 2px 100%;\n",
              "  background-repeat: no-repeat;\n",
              "  background-position: center center;\n",
              "}\n",
              "\n",
              "/* Parallel-specific style estimator block */\n",
              "\n",
              "#sk-container-id-1 div.sk-parallel-item::after {\n",
              "  content: \"\";\n",
              "  width: 100%;\n",
              "  border-bottom: 2px solid var(--sklearn-color-text-on-default-background);\n",
              "  flex-grow: 1;\n",
              "}\n",
              "\n",
              "#sk-container-id-1 div.sk-parallel {\n",
              "  display: flex;\n",
              "  align-items: stretch;\n",
              "  justify-content: center;\n",
              "  background-color: var(--sklearn-color-background);\n",
              "  position: relative;\n",
              "}\n",
              "\n",
              "#sk-container-id-1 div.sk-parallel-item {\n",
              "  display: flex;\n",
              "  flex-direction: column;\n",
              "}\n",
              "\n",
              "#sk-container-id-1 div.sk-parallel-item:first-child::after {\n",
              "  align-self: flex-end;\n",
              "  width: 50%;\n",
              "}\n",
              "\n",
              "#sk-container-id-1 div.sk-parallel-item:last-child::after {\n",
              "  align-self: flex-start;\n",
              "  width: 50%;\n",
              "}\n",
              "\n",
              "#sk-container-id-1 div.sk-parallel-item:only-child::after {\n",
              "  width: 0;\n",
              "}\n",
              "\n",
              "/* Serial-specific style estimator block */\n",
              "\n",
              "#sk-container-id-1 div.sk-serial {\n",
              "  display: flex;\n",
              "  flex-direction: column;\n",
              "  align-items: center;\n",
              "  background-color: var(--sklearn-color-background);\n",
              "  padding-right: 1em;\n",
              "  padding-left: 1em;\n",
              "}\n",
              "\n",
              "\n",
              "/* Toggleable style: style used for estimator/Pipeline/ColumnTransformer box that is\n",
              "clickable and can be expanded/collapsed.\n",
              "- Pipeline and ColumnTransformer use this feature and define the default style\n",
              "- Estimators will overwrite some part of the style using the `sk-estimator` class\n",
              "*/\n",
              "\n",
              "/* Pipeline and ColumnTransformer style (default) */\n",
              "\n",
              "#sk-container-id-1 div.sk-toggleable {\n",
              "  /* Default theme specific background. It is overwritten whether we have a\n",
              "  specific estimator or a Pipeline/ColumnTransformer */\n",
              "  background-color: var(--sklearn-color-background);\n",
              "}\n",
              "\n",
              "/* Toggleable label */\n",
              "#sk-container-id-1 label.sk-toggleable__label {\n",
              "  cursor: pointer;\n",
              "  display: block;\n",
              "  width: 100%;\n",
              "  margin-bottom: 0;\n",
              "  padding: 0.5em;\n",
              "  box-sizing: border-box;\n",
              "  text-align: center;\n",
              "}\n",
              "\n",
              "#sk-container-id-1 label.sk-toggleable__label-arrow:before {\n",
              "  /* Arrow on the left of the label */\n",
              "  content: \"▸\";\n",
              "  float: left;\n",
              "  margin-right: 0.25em;\n",
              "  color: var(--sklearn-color-icon);\n",
              "}\n",
              "\n",
              "#sk-container-id-1 label.sk-toggleable__label-arrow:hover:before {\n",
              "  color: var(--sklearn-color-text);\n",
              "}\n",
              "\n",
              "/* Toggleable content - dropdown */\n",
              "\n",
              "#sk-container-id-1 div.sk-toggleable__content {\n",
              "  max-height: 0;\n",
              "  max-width: 0;\n",
              "  overflow: hidden;\n",
              "  text-align: left;\n",
              "  /* unfitted */\n",
              "  background-color: var(--sklearn-color-unfitted-level-0);\n",
              "}\n",
              "\n",
              "#sk-container-id-1 div.sk-toggleable__content.fitted {\n",
              "  /* fitted */\n",
              "  background-color: var(--sklearn-color-fitted-level-0);\n",
              "}\n",
              "\n",
              "#sk-container-id-1 div.sk-toggleable__content pre {\n",
              "  margin: 0.2em;\n",
              "  border-radius: 0.25em;\n",
              "  color: var(--sklearn-color-text);\n",
              "  /* unfitted */\n",
              "  background-color: var(--sklearn-color-unfitted-level-0);\n",
              "}\n",
              "\n",
              "#sk-container-id-1 div.sk-toggleable__content.fitted pre {\n",
              "  /* unfitted */\n",
              "  background-color: var(--sklearn-color-fitted-level-0);\n",
              "}\n",
              "\n",
              "#sk-container-id-1 input.sk-toggleable__control:checked~div.sk-toggleable__content {\n",
              "  /* Expand drop-down */\n",
              "  max-height: 200px;\n",
              "  max-width: 100%;\n",
              "  overflow: auto;\n",
              "}\n",
              "\n",
              "#sk-container-id-1 input.sk-toggleable__control:checked~label.sk-toggleable__label-arrow:before {\n",
              "  content: \"▾\";\n",
              "}\n",
              "\n",
              "/* Pipeline/ColumnTransformer-specific style */\n",
              "\n",
              "#sk-container-id-1 div.sk-label input.sk-toggleable__control:checked~label.sk-toggleable__label {\n",
              "  color: var(--sklearn-color-text);\n",
              "  background-color: var(--sklearn-color-unfitted-level-2);\n",
              "}\n",
              "\n",
              "#sk-container-id-1 div.sk-label.fitted input.sk-toggleable__control:checked~label.sk-toggleable__label {\n",
              "  background-color: var(--sklearn-color-fitted-level-2);\n",
              "}\n",
              "\n",
              "/* Estimator-specific style */\n",
              "\n",
              "/* Colorize estimator box */\n",
              "#sk-container-id-1 div.sk-estimator input.sk-toggleable__control:checked~label.sk-toggleable__label {\n",
              "  /* unfitted */\n",
              "  background-color: var(--sklearn-color-unfitted-level-2);\n",
              "}\n",
              "\n",
              "#sk-container-id-1 div.sk-estimator.fitted input.sk-toggleable__control:checked~label.sk-toggleable__label {\n",
              "  /* fitted */\n",
              "  background-color: var(--sklearn-color-fitted-level-2);\n",
              "}\n",
              "\n",
              "#sk-container-id-1 div.sk-label label.sk-toggleable__label,\n",
              "#sk-container-id-1 div.sk-label label {\n",
              "  /* The background is the default theme color */\n",
              "  color: var(--sklearn-color-text-on-default-background);\n",
              "}\n",
              "\n",
              "/* On hover, darken the color of the background */\n",
              "#sk-container-id-1 div.sk-label:hover label.sk-toggleable__label {\n",
              "  color: var(--sklearn-color-text);\n",
              "  background-color: var(--sklearn-color-unfitted-level-2);\n",
              "}\n",
              "\n",
              "/* Label box, darken color on hover, fitted */\n",
              "#sk-container-id-1 div.sk-label.fitted:hover label.sk-toggleable__label.fitted {\n",
              "  color: var(--sklearn-color-text);\n",
              "  background-color: var(--sklearn-color-fitted-level-2);\n",
              "}\n",
              "\n",
              "/* Estimator label */\n",
              "\n",
              "#sk-container-id-1 div.sk-label label {\n",
              "  font-family: monospace;\n",
              "  font-weight: bold;\n",
              "  display: inline-block;\n",
              "  line-height: 1.2em;\n",
              "}\n",
              "\n",
              "#sk-container-id-1 div.sk-label-container {\n",
              "  text-align: center;\n",
              "}\n",
              "\n",
              "/* Estimator-specific */\n",
              "#sk-container-id-1 div.sk-estimator {\n",
              "  font-family: monospace;\n",
              "  border: 1px dotted var(--sklearn-color-border-box);\n",
              "  border-radius: 0.25em;\n",
              "  box-sizing: border-box;\n",
              "  margin-bottom: 0.5em;\n",
              "  /* unfitted */\n",
              "  background-color: var(--sklearn-color-unfitted-level-0);\n",
              "}\n",
              "\n",
              "#sk-container-id-1 div.sk-estimator.fitted {\n",
              "  /* fitted */\n",
              "  background-color: var(--sklearn-color-fitted-level-0);\n",
              "}\n",
              "\n",
              "/* on hover */\n",
              "#sk-container-id-1 div.sk-estimator:hover {\n",
              "  /* unfitted */\n",
              "  background-color: var(--sklearn-color-unfitted-level-2);\n",
              "}\n",
              "\n",
              "#sk-container-id-1 div.sk-estimator.fitted:hover {\n",
              "  /* fitted */\n",
              "  background-color: var(--sklearn-color-fitted-level-2);\n",
              "}\n",
              "\n",
              "/* Specification for estimator info (e.g. \"i\" and \"?\") */\n",
              "\n",
              "/* Common style for \"i\" and \"?\" */\n",
              "\n",
              ".sk-estimator-doc-link,\n",
              "a:link.sk-estimator-doc-link,\n",
              "a:visited.sk-estimator-doc-link {\n",
              "  float: right;\n",
              "  font-size: smaller;\n",
              "  line-height: 1em;\n",
              "  font-family: monospace;\n",
              "  background-color: var(--sklearn-color-background);\n",
              "  border-radius: 1em;\n",
              "  height: 1em;\n",
              "  width: 1em;\n",
              "  text-decoration: none !important;\n",
              "  margin-left: 1ex;\n",
              "  /* unfitted */\n",
              "  border: var(--sklearn-color-unfitted-level-1) 1pt solid;\n",
              "  color: var(--sklearn-color-unfitted-level-1);\n",
              "}\n",
              "\n",
              ".sk-estimator-doc-link.fitted,\n",
              "a:link.sk-estimator-doc-link.fitted,\n",
              "a:visited.sk-estimator-doc-link.fitted {\n",
              "  /* fitted */\n",
              "  border: var(--sklearn-color-fitted-level-1) 1pt solid;\n",
              "  color: var(--sklearn-color-fitted-level-1);\n",
              "}\n",
              "\n",
              "/* On hover */\n",
              "div.sk-estimator:hover .sk-estimator-doc-link:hover,\n",
              ".sk-estimator-doc-link:hover,\n",
              "div.sk-label-container:hover .sk-estimator-doc-link:hover,\n",
              ".sk-estimator-doc-link:hover {\n",
              "  /* unfitted */\n",
              "  background-color: var(--sklearn-color-unfitted-level-3);\n",
              "  color: var(--sklearn-color-background);\n",
              "  text-decoration: none;\n",
              "}\n",
              "\n",
              "div.sk-estimator.fitted:hover .sk-estimator-doc-link.fitted:hover,\n",
              ".sk-estimator-doc-link.fitted:hover,\n",
              "div.sk-label-container:hover .sk-estimator-doc-link.fitted:hover,\n",
              ".sk-estimator-doc-link.fitted:hover {\n",
              "  /* fitted */\n",
              "  background-color: var(--sklearn-color-fitted-level-3);\n",
              "  color: var(--sklearn-color-background);\n",
              "  text-decoration: none;\n",
              "}\n",
              "\n",
              "/* Span, style for the box shown on hovering the info icon */\n",
              ".sk-estimator-doc-link span {\n",
              "  display: none;\n",
              "  z-index: 9999;\n",
              "  position: relative;\n",
              "  font-weight: normal;\n",
              "  right: .2ex;\n",
              "  padding: .5ex;\n",
              "  margin: .5ex;\n",
              "  width: min-content;\n",
              "  min-width: 20ex;\n",
              "  max-width: 50ex;\n",
              "  color: var(--sklearn-color-text);\n",
              "  box-shadow: 2pt 2pt 4pt #999;\n",
              "  /* unfitted */\n",
              "  background: var(--sklearn-color-unfitted-level-0);\n",
              "  border: .5pt solid var(--sklearn-color-unfitted-level-3);\n",
              "}\n",
              "\n",
              ".sk-estimator-doc-link.fitted span {\n",
              "  /* fitted */\n",
              "  background: var(--sklearn-color-fitted-level-0);\n",
              "  border: var(--sklearn-color-fitted-level-3);\n",
              "}\n",
              "\n",
              ".sk-estimator-doc-link:hover span {\n",
              "  display: block;\n",
              "}\n",
              "\n",
              "/* \"?\"-specific style due to the `<a>` HTML tag */\n",
              "\n",
              "#sk-container-id-1 a.estimator_doc_link {\n",
              "  float: right;\n",
              "  font-size: 1rem;\n",
              "  line-height: 1em;\n",
              "  font-family: monospace;\n",
              "  background-color: var(--sklearn-color-background);\n",
              "  border-radius: 1rem;\n",
              "  height: 1rem;\n",
              "  width: 1rem;\n",
              "  text-decoration: none;\n",
              "  /* unfitted */\n",
              "  color: var(--sklearn-color-unfitted-level-1);\n",
              "  border: var(--sklearn-color-unfitted-level-1) 1pt solid;\n",
              "}\n",
              "\n",
              "#sk-container-id-1 a.estimator_doc_link.fitted {\n",
              "  /* fitted */\n",
              "  border: var(--sklearn-color-fitted-level-1) 1pt solid;\n",
              "  color: var(--sklearn-color-fitted-level-1);\n",
              "}\n",
              "\n",
              "/* On hover */\n",
              "#sk-container-id-1 a.estimator_doc_link:hover {\n",
              "  /* unfitted */\n",
              "  background-color: var(--sklearn-color-unfitted-level-3);\n",
              "  color: var(--sklearn-color-background);\n",
              "  text-decoration: none;\n",
              "}\n",
              "\n",
              "#sk-container-id-1 a.estimator_doc_link.fitted:hover {\n",
              "  /* fitted */\n",
              "  background-color: var(--sklearn-color-fitted-level-3);\n",
              "}\n",
              "</style><div id=\"sk-container-id-1\" class=\"sk-top-container\"><div class=\"sk-text-repr-fallback\"><pre>Pipeline(steps=[(&#x27;dummify&#x27;,\n",
              "                 ColumnTransformer(transformers=[(&#x27;spec_dummify&#x27;,\n",
              "                                                  OneHotEncoder(),\n",
              "                                                  [&#x27;species&#x27;]),\n",
              "                                                 (&#x27;land_dummify&#x27;,\n",
              "                                                  OneHotEncoder(), [&#x27;island&#x27;]),\n",
              "                                                 (&#x27;sex_dummify&#x27;,\n",
              "                                                  OneHotEncoder(), [&#x27;sex&#x27;])])),\n",
              "                (&#x27;ols&#x27;, LinearRegression())])</pre><b>In a Jupyter environment, please rerun this cell to show the HTML representation or trust the notebook. <br />On GitHub, the HTML representation is unable to render, please try loading this page with nbviewer.org.</b></div><div class=\"sk-container\" hidden><div class=\"sk-item sk-dashed-wrapped\"><div class=\"sk-label-container\"><div class=\"sk-label fitted sk-toggleable\"><input class=\"sk-toggleable__control sk-hidden--visually\" id=\"sk-estimator-id-1\" type=\"checkbox\" ><label for=\"sk-estimator-id-1\" class=\"sk-toggleable__label fitted sk-toggleable__label-arrow fitted\">&nbsp;&nbsp;Pipeline<a class=\"sk-estimator-doc-link fitted\" rel=\"noreferrer\" target=\"_blank\" href=\"https://scikit-learn.org/1.4/modules/generated/sklearn.pipeline.Pipeline.html\">?<span>Documentation for Pipeline</span></a><span class=\"sk-estimator-doc-link fitted\">i<span>Fitted</span></span></label><div class=\"sk-toggleable__content fitted\"><pre>Pipeline(steps=[(&#x27;dummify&#x27;,\n",
              "                 ColumnTransformer(transformers=[(&#x27;spec_dummify&#x27;,\n",
              "                                                  OneHotEncoder(),\n",
              "                                                  [&#x27;species&#x27;]),\n",
              "                                                 (&#x27;land_dummify&#x27;,\n",
              "                                                  OneHotEncoder(), [&#x27;island&#x27;]),\n",
              "                                                 (&#x27;sex_dummify&#x27;,\n",
              "                                                  OneHotEncoder(), [&#x27;sex&#x27;])])),\n",
              "                (&#x27;ols&#x27;, LinearRegression())])</pre></div> </div></div><div class=\"sk-serial\"><div class=\"sk-item sk-dashed-wrapped\"><div class=\"sk-label-container\"><div class=\"sk-label fitted sk-toggleable\"><input class=\"sk-toggleable__control sk-hidden--visually\" id=\"sk-estimator-id-2\" type=\"checkbox\" ><label for=\"sk-estimator-id-2\" class=\"sk-toggleable__label fitted sk-toggleable__label-arrow fitted\">&nbsp;dummify: ColumnTransformer<a class=\"sk-estimator-doc-link fitted\" rel=\"noreferrer\" target=\"_blank\" href=\"https://scikit-learn.org/1.4/modules/generated/sklearn.compose.ColumnTransformer.html\">?<span>Documentation for dummify: ColumnTransformer</span></a></label><div class=\"sk-toggleable__content fitted\"><pre>ColumnTransformer(transformers=[(&#x27;spec_dummify&#x27;, OneHotEncoder(), [&#x27;species&#x27;]),\n",
              "                                (&#x27;land_dummify&#x27;, OneHotEncoder(), [&#x27;island&#x27;]),\n",
              "                                (&#x27;sex_dummify&#x27;, OneHotEncoder(), [&#x27;sex&#x27;])])</pre></div> </div></div><div class=\"sk-parallel\"><div class=\"sk-parallel-item\"><div class=\"sk-item\"><div class=\"sk-label-container\"><div class=\"sk-label fitted sk-toggleable\"><input class=\"sk-toggleable__control sk-hidden--visually\" id=\"sk-estimator-id-3\" type=\"checkbox\" ><label for=\"sk-estimator-id-3\" class=\"sk-toggleable__label fitted sk-toggleable__label-arrow fitted\">spec_dummify</label><div class=\"sk-toggleable__content fitted\"><pre>[&#x27;species&#x27;]</pre></div> </div></div><div class=\"sk-serial\"><div class=\"sk-item\"><div class=\"sk-estimator fitted sk-toggleable\"><input class=\"sk-toggleable__control sk-hidden--visually\" id=\"sk-estimator-id-4\" type=\"checkbox\" ><label for=\"sk-estimator-id-4\" class=\"sk-toggleable__label fitted sk-toggleable__label-arrow fitted\">&nbsp;OneHotEncoder<a class=\"sk-estimator-doc-link fitted\" rel=\"noreferrer\" target=\"_blank\" href=\"https://scikit-learn.org/1.4/modules/generated/sklearn.preprocessing.OneHotEncoder.html\">?<span>Documentation for OneHotEncoder</span></a></label><div class=\"sk-toggleable__content fitted\"><pre>OneHotEncoder()</pre></div> </div></div></div></div></div><div class=\"sk-parallel-item\"><div class=\"sk-item\"><div class=\"sk-label-container\"><div class=\"sk-label fitted sk-toggleable\"><input class=\"sk-toggleable__control sk-hidden--visually\" id=\"sk-estimator-id-5\" type=\"checkbox\" ><label for=\"sk-estimator-id-5\" class=\"sk-toggleable__label fitted sk-toggleable__label-arrow fitted\">land_dummify</label><div class=\"sk-toggleable__content fitted\"><pre>[&#x27;island&#x27;]</pre></div> </div></div><div class=\"sk-serial\"><div class=\"sk-item\"><div class=\"sk-estimator fitted sk-toggleable\"><input class=\"sk-toggleable__control sk-hidden--visually\" id=\"sk-estimator-id-6\" type=\"checkbox\" ><label for=\"sk-estimator-id-6\" class=\"sk-toggleable__label fitted sk-toggleable__label-arrow fitted\">&nbsp;OneHotEncoder<a class=\"sk-estimator-doc-link fitted\" rel=\"noreferrer\" target=\"_blank\" href=\"https://scikit-learn.org/1.4/modules/generated/sklearn.preprocessing.OneHotEncoder.html\">?<span>Documentation for OneHotEncoder</span></a></label><div class=\"sk-toggleable__content fitted\"><pre>OneHotEncoder()</pre></div> </div></div></div></div></div><div class=\"sk-parallel-item\"><div class=\"sk-item\"><div class=\"sk-label-container\"><div class=\"sk-label fitted sk-toggleable\"><input class=\"sk-toggleable__control sk-hidden--visually\" id=\"sk-estimator-id-7\" type=\"checkbox\" ><label for=\"sk-estimator-id-7\" class=\"sk-toggleable__label fitted sk-toggleable__label-arrow fitted\">sex_dummify</label><div class=\"sk-toggleable__content fitted\"><pre>[&#x27;sex&#x27;]</pre></div> </div></div><div class=\"sk-serial\"><div class=\"sk-item\"><div class=\"sk-estimator fitted sk-toggleable\"><input class=\"sk-toggleable__control sk-hidden--visually\" id=\"sk-estimator-id-8\" type=\"checkbox\" ><label for=\"sk-estimator-id-8\" class=\"sk-toggleable__label fitted sk-toggleable__label-arrow fitted\">&nbsp;OneHotEncoder<a class=\"sk-estimator-doc-link fitted\" rel=\"noreferrer\" target=\"_blank\" href=\"https://scikit-learn.org/1.4/modules/generated/sklearn.preprocessing.OneHotEncoder.html\">?<span>Documentation for OneHotEncoder</span></a></label><div class=\"sk-toggleable__content fitted\"><pre>OneHotEncoder()</pre></div> </div></div></div></div></div></div></div><div class=\"sk-item\"><div class=\"sk-estimator fitted sk-toggleable\"><input class=\"sk-toggleable__control sk-hidden--visually\" id=\"sk-estimator-id-9\" type=\"checkbox\" ><label for=\"sk-estimator-id-9\" class=\"sk-toggleable__label fitted sk-toggleable__label-arrow fitted\">&nbsp;LinearRegression<a class=\"sk-estimator-doc-link fitted\" rel=\"noreferrer\" target=\"_blank\" href=\"https://scikit-learn.org/1.4/modules/generated/sklearn.linear_model.LinearRegression.html\">?<span>Documentation for LinearRegression</span></a></label><div class=\"sk-toggleable__content fitted\"><pre>LinearRegression()</pre></div> </div></div></div></div></div></div>"
            ],
            "text/plain": [
              "Pipeline(steps=[('dummify',\n",
              "                 ColumnTransformer(transformers=[('spec_dummify',\n",
              "                                                  OneHotEncoder(),\n",
              "                                                  ['species']),\n",
              "                                                 ('land_dummify',\n",
              "                                                  OneHotEncoder(), ['island']),\n",
              "                                                 ('sex_dummify',\n",
              "                                                  OneHotEncoder(), ['sex'])])),\n",
              "                ('ols', LinearRegression())])"
            ]
          },
          "execution_count": null,
          "metadata": {},
          "output_type": "execute_result"
        }
      ],
      "source": [
        "#model fiting\n",
        "pipe1 = pipe.fit(X_train, y_train)\n",
        "pipe1"
      ]
    },
    {
      "cell_type": "code",
      "execution_count": 10,
      "metadata": {
        "colab": {
          "base_uri": "https://localhost:8080/"
        },
        "id": "960D56OryGbX",
        "outputId": "de3cc4b1-7b3c-478a-a1e5-573c7f125606"
      },
      "outputs": [
        {
          "data": {
            "text/plain": [
              "array([36.1875, 49.25  , 47.1875, 45.6875, 40.6875, 45.6875, 45.6875, 39.75  , 45.6875, 39.75  , 49.25  , 40.8125, 47.1875,\n",
              "       49.25  , 49.25  , 50.75  , 39.75  , 47.1875, 36.1875, 36.1875, 36.1875, 49.25  , 45.6875, 45.6875, 47.1875, 37.0625,\n",
              "       45.6875, 45.6875, 49.25  , 50.75  , 49.25  , 49.25  , 45.6875, 50.75  , 40.6875, 49.25  , 40.6875, 40.6875, 49.25  ,\n",
              "       45.6875, 45.6875, 40.8125, 49.25  , 40.8125, 50.75  , 50.75  , 37.25  , 49.25  , 40.6875, 49.25  , 37.0625, 49.25  ,\n",
              "       47.1875, 36.1875, 49.25  , 49.25  , 40.8125, 49.25  , 45.6875, 37.25  , 45.6875, 45.6875, 45.6875, 49.25  , 45.6875,\n",
              "       36.1875, 45.6875, 37.0625, 45.6875, 37.0625, 45.6875, 49.25  , 49.25  , 40.8125, 36.1875, 47.1875, 47.1875, 37.0625,\n",
              "       50.75  , 45.6875, 39.75  , 37.25  , 37.0625, 49.25  ])"
            ]
          },
          "execution_count": null,
          "metadata": {},
          "output_type": "execute_result"
        }
      ],
      "source": [
        "predpipe = pipe1.predict(X_test)\n",
        "predpipe"
      ]
    },
    {
      "cell_type": "markdown",
      "metadata": {
        "id": "hEwiWESpJLwi"
      },
      "source": [
        "Let's use `bill_length_mm` to predict `bill_depth_mm`. Prepare your data and fit the following models on the entire dataset:\n",
        "\n",
        "* Simple linear regression (e.g. straight-line) model\n",
        "* Quadratic (degree 2 polynomial) model\n",
        "* Cubic (degree 3 polynomial) model\n",
        "* Degree 10 polynomial model\n",
        "\n",
        "Make predictions for each model and plot your fitted models on the scatterplot."
      ]
    },
    {
      "cell_type": "markdown",
      "metadata": {
        "id": "iqPmfcLp35PI"
      },
      "source": [
        "### Simple linear regression"
      ]
    },
    {
      "cell_type": "code",
      "execution_count": 11,
      "metadata": {
        "id": "GsYiHjFe61kP"
      },
      "outputs": [],
      "source": [
        "# Prepare data for linear regression\n",
        "X = penguins[['bill_length_mm']]\n",
        "y = penguins['bill_depth_mm']"
      ]
    },
    {
      "cell_type": "code",
      "execution_count": 12,
      "metadata": {
        "colab": {
          "base_uri": "https://localhost:8080/",
          "height": 424
        },
        "id": "tjuOvH63LQ2b",
        "outputId": "e6a62a62-564e-4cb4-bbd0-8726489e8a5c"
      },
      "outputs": [
        {
          "data": {
            "text/html": [
              "<div>\n",
              "<style scoped>\n",
              "    .dataframe tbody tr th:only-of-type {\n",
              "        vertical-align: middle;\n",
              "    }\n",
              "\n",
              "    .dataframe tbody tr th {\n",
              "        vertical-align: top;\n",
              "    }\n",
              "\n",
              "    .dataframe thead th {\n",
              "        text-align: right;\n",
              "    }\n",
              "</style>\n",
              "<table border=\"1\" class=\"dataframe\">\n",
              "  <thead>\n",
              "    <tr style=\"text-align: right;\">\n",
              "      <th></th>\n",
              "      <th>bill_length_mm</th>\n",
              "    </tr>\n",
              "  </thead>\n",
              "  <tbody>\n",
              "    <tr>\n",
              "      <th>246</th>\n",
              "      <td>44.5</td>\n",
              "    </tr>\n",
              "    <tr>\n",
              "      <th>134</th>\n",
              "      <td>38.1</td>\n",
              "    </tr>\n",
              "    <tr>\n",
              "      <th>267</th>\n",
              "      <td>55.1</td>\n",
              "    </tr>\n",
              "    <tr>\n",
              "      <th>177</th>\n",
              "      <td>46.1</td>\n",
              "    </tr>\n",
              "    <tr>\n",
              "      <th>194</th>\n",
              "      <td>45.3</td>\n",
              "    </tr>\n",
              "    <tr>\n",
              "      <th>...</th>\n",
              "      <td>...</td>\n",
              "    </tr>\n",
              "    <tr>\n",
              "      <th>202</th>\n",
              "      <td>46.6</td>\n",
              "    </tr>\n",
              "    <tr>\n",
              "      <th>73</th>\n",
              "      <td>45.8</td>\n",
              "    </tr>\n",
              "    <tr>\n",
              "      <th>40</th>\n",
              "      <td>36.5</td>\n",
              "    </tr>\n",
              "    <tr>\n",
              "      <th>185</th>\n",
              "      <td>59.6</td>\n",
              "    </tr>\n",
              "    <tr>\n",
              "      <th>158</th>\n",
              "      <td>45.4</td>\n",
              "    </tr>\n",
              "  </tbody>\n",
              "</table>\n",
              "<p>249 rows × 1 columns</p>\n",
              "</div>"
            ],
            "text/plain": [
              "     bill_length_mm\n",
              "246            44.5\n",
              "134            38.1\n",
              "267            55.1\n",
              "177            46.1\n",
              "194            45.3\n",
              "..              ...\n",
              "202            46.6\n",
              "73             45.8\n",
              "40             36.5\n",
              "185            59.6\n",
              "158            45.4\n",
              "\n",
              "[249 rows x 1 columns]"
            ]
          },
          "execution_count": null,
          "metadata": {},
          "output_type": "execute_result"
        }
      ],
      "source": [
        "\n",
        "X_train1, X_test1, y_train1, y_test1 = train_test_split(X,y)\n",
        "X_train1\n"
      ]
    },
    {
      "cell_type": "code",
      "execution_count": 13,
      "metadata": {
        "colab": {
          "base_uri": "https://localhost:8080/"
        },
        "id": "k9b4sgmx3KOC",
        "outputId": "afdbbd37-3922-4b66-85a2-e4c129207503"
      },
      "outputs": [
        {
          "data": {
            "text/plain": [
              "array([16.60063785, 17.67854479, 17.47698496, 16.05730264, 16.5831109 , 17.36305983, 17.47698496, 17.81876033, 17.34553289,\n",
              "       16.98623057, 16.99499405, 17.31924248, 16.46918578, 17.08262876, 16.7671438 , 17.46822149, 17.24037124, 16.98623057,\n",
              "       17.36305983, 17.26666165, 17.60843702, 16.91612281, 17.65225438, 17.96773934, 17.51203884, 17.93268545, 17.46822149,\n",
              "       16.56558396, 16.88106892, 17.22284429, 16.5831109 , 16.55682049, 17.48574843, 17.3718233 , 17.45945801, 17.81876033,\n",
              "       16.84601504, 17.87134116, 16.6444552 , 17.83628727, 16.60063785, 16.3727876 , 16.63569173, 17.05633834, 17.34553289,\n",
              "       18.13424529, 16.53929355, 16.90735933, 17.77494297, 16.72332644, 16.50423966, 16.55682049, 16.49547619, 17.13520958,\n",
              "       16.9774671 , 17.8275238 , 17.30171553, 16.67950909, 17.00375752, 17.08262876, 17.38058677, 16.69703603, 16.50423966,\n",
              "       16.88106892, 16.53053008, 17.73988909, 16.65321867, 17.54709273, 17.19655388, 16.59187437, 16.43413189, 16.62692826,\n",
              "       16.73208991, 16.94241322, 16.65321867, 16.19751817, 17.22284429, 17.91515851, 17.62596397, 16.47794925, 16.91612281,\n",
              "       16.6444552 , 17.39811372, 17.63472744])"
            ]
          },
          "execution_count": null,
          "metadata": {},
          "output_type": "execute_result"
        }
      ],
      "source": [
        "# Fit a simple linear regression model\n",
        "linear_pipe = Pipeline(\n",
        "    [('ols', lr)]\n",
        ")\n",
        "\n",
        "# Fit the model\n",
        "fit_linear_pipe = linear_pipe.fit(X_train1, y_train1)\n",
        "fit_linear_pipe\n",
        "\n",
        "\n",
        "y_pred_linear  = fit_linear_pipe.predict(X_test1)\n",
        "y_pred_linear\n"
      ]
    },
    {
      "cell_type": "code",
      "execution_count": 14,
      "metadata": {
        "colab": {
          "base_uri": "https://localhost:8080/",
          "height": 564
        },
        "id": "0TDb9wPGFXHm",
        "outputId": "659df5b7-c4ca-4331-8744-f5c2e6cffb2e"
      },
      "outputs": [
        {
          "data": {
            "image/png": "[encoded data removed]",
            "text/plain": [
              "<Figure size 800x600 with 1 Axes>"
            ]
          },
          "metadata": {},
          "output_type": "display_data"
        }
      ],
      "source": [
        "from sklearn.preprocessing import PolynomialFeatures\n",
        "from sklearn.pipeline import Pipeline\n",
        "from sklearn.linear_model import LinearRegression\n",
        "from sklearn.metrics import mean_squared_error\n",
        "import pandas as pd\n",
        "import numpy as np\n",
        "import matplotlib.pyplot as plt\n",
        "\n",
        "\n",
        "degrees = [2, 5, 10, 20]\n",
        "\n",
        "train_errors = []\n",
        "test_errors = []\n",
        "\n",
        "for degree in degrees:\n",
        "    model = Pipeline([\n",
        "        ('poly_features', PolynomialFeatures(degree=degree, include_bias=False)),\n",
        "        ('linear_regression', LinearRegression())\n",
        "    ])\n",
        "\n",
        "    model.fit(X_train1, y_train1)\n",
        "\n",
        "    # Predict on training and test data\n",
        "    y_train_pred = model.predict(X_train1)\n",
        "    y_test_pred = model.predict(X_test1)\n",
        "\n",
        "    # Calculate MSE for training and test sets\n",
        "    train_errors.append(mean_squared_error(y_train1, y_train_pred))\n",
        "    test_errors.append(mean_squared_error(y_test1, y_test_pred))\n",
        "\n",
        "# Plotting the training and test errors vs. model complexity (degree of polynomial)\n",
        "plt.figure(figsize=(8, 6))\n",
        "plt.plot(degrees, train_errors, label=\"Training Error\", color=\"gray\", marker='o')\n",
        "plt.plot(degrees, test_errors, label=\"Test Error\", color=\"red\", marker='o')\n",
        "plt.xlabel(\"Flexibility (Degree of Polynomial)\")\n",
        "plt.ylabel(\"Mean Squared Error\")\n",
        "plt.title(\"Training and Test Error vs. Model Flexibility\")\n",
        "plt.legend()\n",
        "plt.show()"
      ]
    },
    {
      "cell_type": "markdown",
      "metadata": {
        "id": "tJnTt83M3-EL"
      },
      "source": [
        "#### Quadratic"
      ]
    },
    {
      "cell_type": "code",
      "execution_count": 15,
      "metadata": {
        "colab": {
          "base_uri": "https://localhost:8080/"
        },
        "id": "ad7w9OvI4rfz",
        "outputId": "cf0802a3-5932-40dc-e7a9-d534deb9e4ba"
      },
      "outputs": [
        {
          "data": {
            "text/plain": [
              "array([16.57667963, 18.01096776, 17.3482244 , 17.82127463, 16.59624299, 17.05391127, 17.3482244 , 18.57904789, 17.01377855,\n",
              "       16.49348354, 16.49931204, 16.95615256, 16.75685527, 16.57646652, 16.45927231, 17.32352644, 16.80180099, 16.49348354,\n",
              "       17.05391127, 16.85016378, 17.75986347, 16.45920644, 17.91423054, 19.27886726, 17.45044703, 19.10528377, 17.32352644,\n",
              "       16.61717868, 16.45030183, 16.77127453, 16.59624299, 16.62816115, 17.37326543, 17.07449226, 17.29917156, 18.57904789,\n",
              "       16.44688652, 18.81472129, 16.53377513, 18.65623337, 16.57667963, 16.93804466, 16.54166986, 16.54971782, 17.01377855,\n",
              "       20.17835201, 16.65115532, 16.45646566, 18.39208813, 16.47816113, 16.70126065, 16.62816115, 16.71464468, 16.63922709,\n",
              "       16.48799812, 18.61746909, 16.91945065, 16.50562699, 16.50548362, 16.57646652, 17.09541632, 16.4936114 , 16.70126065,\n",
              "       16.45030183, 16.66316703, 18.24869577, 16.52622347, 17.55815897, 16.72805795, 16.58628977, 16.81793918, 16.54990768,\n",
              "       16.47369721, 16.46948724, 16.52622347, 17.37383501, 16.77127453, 19.02055051, 17.82058106, 16.74244199, 16.45920644,\n",
              "       16.53377513, 17.1382937 , 17.85145447])"
            ]
          },
          "execution_count": null,
          "metadata": {},
          "output_type": "execute_result"
        }
      ],
      "source": [
        "poly_features_2 = PolynomialFeatures(2)\n",
        "\n",
        "my_pipeline_quadratic = Pipeline(\n",
        "    [(\"squaring\", poly_features_2), ('ols', lr)]\n",
        ")\n",
        "\n",
        "fitted_my_pipeline_quad = my_pipeline_quadratic.fit(X_train1, y_train1)\n",
        "fitted_my_pipeline_quad\n",
        "\n",
        "y_preds_quad = fitted_my_pipeline_quad.predict(X_test1)\n",
        "y_preds_quad"
      ]
    },
    {
      "cell_type": "markdown",
      "metadata": {
        "id": "pH4Q0yJs4AC8"
      },
      "source": [
        "#### Cubic"
      ]
    },
    {
      "cell_type": "code",
      "execution_count": 16,
      "metadata": {
        "colab": {
          "base_uri": "https://localhost:8080/"
        },
        "id": "rvGkZ_Jq77un",
        "outputId": "c0f233cc-11a3-4950-f568-a60585621d66"
      },
      "outputs": [
        {
          "data": {
            "text/plain": [
              "array([16.39946223, 18.03520005, 17.53911815, 18.22835219, 16.41693615, 17.2600715 , 17.53911815, 18.35232634, 17.21827356,\n",
              "       16.51854038, 16.53050072, 17.15639053, 16.58958192, 16.66717423, 16.34187   , 17.51735424, 16.97798864, 16.51854038,\n",
              "       17.2600715 , 17.03609944, 17.8653871 , 16.43528595, 17.9721376 , 18.63529926, 17.62635985, 18.57510389, 17.51735424,\n",
              "       16.43675252, 16.40251677, 16.94010264, 16.41693615, 16.44755288, 17.56090618, 17.28111673, 17.49561994, 18.35232634,\n",
              "       16.37612272, 18.45988119, 16.36573665, 18.38899902, 16.39946223, 16.8219298 , 16.37136559, 16.62306748, 17.21827356,\n",
              "       18.85312217, 16.47096551, 16.42651525, 18.25740576, 16.33903414, 16.52519245, 16.44755288, 16.54032332, 16.76257854,\n",
              "       16.50691242, 18.37076072, 17.11574199, 16.34863663, 16.54278794, 16.66717423, 17.30225213, 16.343259  , 16.52519245,\n",
              "       16.40251677, 16.48358877, 18.17850118, 16.36065479, 17.71363496, 16.88466554, 16.40790913, 16.66448622, 16.37754711,\n",
              "       16.33862827, 16.46383456, 16.36065479, 17.47199701, 16.94010264, 18.54341129, 17.90830123, 16.57251255, 16.43528595,\n",
              "       16.36573665, 17.34477141, 17.92965684])"
            ]
          },
          "execution_count": null,
          "metadata": {},
          "output_type": "execute_result"
        }
      ],
      "source": [
        "# Prepare data for cubic regression\n",
        "poly_features_3 = PolynomialFeatures(3)\n",
        "\n",
        "\n",
        "cubic_pipe = Pipeline(\n",
        "    [(\"cube\", poly_features_3), ('ols', lr)]\n",
        ")\n",
        "\n",
        "fit_quadratic_cube = cubic_pipe.fit(X_train1, y_train1)\n",
        "fit_quadratic_cube\n",
        "\n",
        "y_pred_cubic = fit_quadratic_cube.predict(X_test1)\n",
        "y_pred_cubic\n"
      ]
    },
    {
      "cell_type": "markdown",
      "metadata": {
        "id": "_fegsmBD4APR"
      },
      "source": [
        "#### Degree Polynomial 10"
      ]
    },
    {
      "cell_type": "code",
      "execution_count": 17,
      "metadata": {
        "colab": {
          "base_uri": "https://localhost:8080/"
        },
        "id": "ksqdqtMK31to",
        "outputId": "7dcff2fe-ce79-4ee1-925d-9ee8b62a650c"
      },
      "outputs": [
        {
          "data": {
            "text/plain": [
              "array([16.58138795, 18.33137533, 18.36319756, 17.17248647, 16.73050632, 17.91353252, 18.36319756, 17.76080267, 17.81955912,\n",
              "       15.62361341, 15.65914742, 17.66870769, 17.74818953, 16.11178509, 15.54435092, 18.33977893, 17.16277388, 15.62361341,\n",
              "       17.91353252, 17.33826408, 18.46502999, 15.41951268, 18.39576789, 17.0019718 , 18.43646865, 17.16993908, 18.33977893,\n",
              "       16.8838536 , 15.37689977, 17.04347308, 16.73050632, 16.96175927, 18.38459712, 17.95835192, 18.31436699, 17.76080267,\n",
              "       15.37764716, 17.48802378, 16.23386174, 17.67137185, 16.58138795, 18.47629037, 16.30000488, 15.95967103, 17.81955912,\n",
              "       16.60961328, 17.11928515, 15.40492006, 17.97186375, 15.73459371, 17.43671514, 16.96175927, 17.51558623, 16.44556305,\n",
              "       15.59015356, 17.71635467, 17.56233191, 15.98921444, 15.69668384, 16.11178509, 18.0016478 , 15.88008999, 17.43671514,\n",
              "       15.37689977, 17.19859183, 18.12229728, 16.16961543, 18.47633039, 16.86278294, 16.65535023, 18.04199188, 16.36794099,\n",
              "       15.69119185, 15.47840605, 16.16961543, 18.63528461, 17.04347308, 17.25883467, 18.44324054, 17.67150693, 15.41951268,\n",
              "       16.23386174, 18.08344771, 18.4293576 ])"
            ]
          },
          "execution_count": null,
          "metadata": {},
          "output_type": "execute_result"
        }
      ],
      "source": [
        "# Prepare data for degree 10 polynomial regression\n",
        "poly_features_10 = PolynomialFeatures(10)\n",
        "\n",
        "degree10_pipe = Pipeline(\n",
        "    [(\"squaring\", poly_features_10), ('ols', lr)]\n",
        ")\n",
        "\n",
        "fit_degree_10 = degree10_pipe.fit(X_train1, y_train1)\n",
        "fit_degree_10\n",
        "\n",
        "y_pred_degree10 = fit_degree_10.predict(X_test1)\n",
        "y_pred_degree10\n"
      ]
    },
    {
      "cell_type": "markdown",
      "metadata": {
        "id": "XXguM-0f8eR1"
      },
      "source": [
        "### Predictions"
      ]
    },
    {
      "cell_type": "code",
      "execution_count": 18,
      "metadata": {
        "colab": {
          "base_uri": "https://localhost:8080/",
          "height": 424
        },
        "id": "lUdO8aNu7V67",
        "outputId": "7cb7004d-40a1-4d13-d00e-3a987662e680"
      },
      "outputs": [
        {
          "data": {
            "text/html": [
              "<div>\n",
              "<style scoped>\n",
              "    .dataframe tbody tr th:only-of-type {\n",
              "        vertical-align: middle;\n",
              "    }\n",
              "\n",
              "    .dataframe tbody tr th {\n",
              "        vertical-align: top;\n",
              "    }\n",
              "\n",
              "    .dataframe thead th {\n",
              "        text-align: right;\n",
              "    }\n",
              "</style>\n",
              "<table border=\"1\" class=\"dataframe\">\n",
              "  <thead>\n",
              "    <tr style=\"text-align: right;\">\n",
              "      <th></th>\n",
              "      <th>y_test</th>\n",
              "      <th>Linear</th>\n",
              "      <th>Quadratic</th>\n",
              "      <th>Cubic</th>\n",
              "      <th>Polynomial 10</th>\n",
              "      <th>bill_length_mm</th>\n",
              "    </tr>\n",
              "  </thead>\n",
              "  <tbody>\n",
              "    <tr>\n",
              "      <th>193</th>\n",
              "      <td>16.0</td>\n",
              "      <td>16.600638</td>\n",
              "      <td>16.576680</td>\n",
              "      <td>16.399462</td>\n",
              "      <td>16.581388</td>\n",
              "      <td>49.6</td>\n",
              "    </tr>\n",
              "    <tr>\n",
              "      <th>117</th>\n",
              "      <td>20.5</td>\n",
              "      <td>17.678545</td>\n",
              "      <td>18.010968</td>\n",
              "      <td>18.035200</td>\n",
              "      <td>18.331375</td>\n",
              "      <td>37.3</td>\n",
              "    </tr>\n",
              "    <tr>\n",
              "      <th>93</th>\n",
              "      <td>18.1</td>\n",
              "      <td>17.476985</td>\n",
              "      <td>17.348224</td>\n",
              "      <td>17.539118</td>\n",
              "      <td>18.363198</td>\n",
              "      <td>39.6</td>\n",
              "    </tr>\n",
              "    <tr>\n",
              "      <th>339</th>\n",
              "      <td>19.8</td>\n",
              "      <td>16.057303</td>\n",
              "      <td>17.821275</td>\n",
              "      <td>18.228352</td>\n",
              "      <td>17.172486</td>\n",
              "      <td>55.8</td>\n",
              "    </tr>\n",
              "    <tr>\n",
              "      <th>217</th>\n",
              "      <td>16.8</td>\n",
              "      <td>16.583111</td>\n",
              "      <td>16.596243</td>\n",
              "      <td>16.416936</td>\n",
              "      <td>16.730506</td>\n",
              "      <td>49.8</td>\n",
              "    </tr>\n",
              "    <tr>\n",
              "      <th>...</th>\n",
              "      <td>...</td>\n",
              "      <td>...</td>\n",
              "      <td>...</td>\n",
              "      <td>...</td>\n",
              "      <td>...</td>\n",
              "      <td>...</td>\n",
              "    </tr>\n",
              "    <tr>\n",
              "      <th>309</th>\n",
              "      <td>18.8</td>\n",
              "      <td>16.477949</td>\n",
              "      <td>16.742442</td>\n",
              "      <td>16.572513</td>\n",
              "      <td>17.671507</td>\n",
              "      <td>51.0</td>\n",
              "    </tr>\n",
              "    <tr>\n",
              "      <th>284</th>\n",
              "      <td>18.9</td>\n",
              "      <td>16.916123</td>\n",
              "      <td>16.459206</td>\n",
              "      <td>16.435286</td>\n",
              "      <td>15.419513</td>\n",
              "      <td>46.0</td>\n",
              "    </tr>\n",
              "    <tr>\n",
              "      <th>186</th>\n",
              "      <td>14.8</td>\n",
              "      <td>16.644455</td>\n",
              "      <td>16.533775</td>\n",
              "      <td>16.365737</td>\n",
              "      <td>16.233862</td>\n",
              "      <td>49.1</td>\n",
              "    </tr>\n",
              "    <tr>\n",
              "      <th>27</th>\n",
              "      <td>17.9</td>\n",
              "      <td>17.398114</td>\n",
              "      <td>17.138294</td>\n",
              "      <td>17.344771</td>\n",
              "      <td>18.083448</td>\n",
              "      <td>40.5</td>\n",
              "    </tr>\n",
              "    <tr>\n",
              "      <th>103</th>\n",
              "      <td>20.0</td>\n",
              "      <td>17.634727</td>\n",
              "      <td>17.851454</td>\n",
              "      <td>17.929657</td>\n",
              "      <td>18.429358</td>\n",
              "      <td>37.8</td>\n",
              "    </tr>\n",
              "  </tbody>\n",
              "</table>\n",
              "<p>84 rows × 6 columns</p>\n",
              "</div>"
            ],
            "text/plain": [
              "     y_test     Linear  Quadratic      Cubic  Polynomial 10  bill_length_mm\n",
              "193    16.0  16.600638  16.576680  16.399462      16.581388            49.6\n",
              "117    20.5  17.678545  18.010968  18.035200      18.331375            37.3\n",
              "93     18.1  17.476985  17.348224  17.539118      18.363198            39.6\n",
              "339    19.8  16.057303  17.821275  18.228352      17.172486            55.8\n",
              "217    16.8  16.583111  16.596243  16.416936      16.730506            49.8\n",
              "..      ...        ...        ...        ...            ...             ...\n",
              "309    18.8  16.477949  16.742442  16.572513      17.671507            51.0\n",
              "284    18.9  16.916123  16.459206  16.435286      15.419513            46.0\n",
              "186    14.8  16.644455  16.533775  16.365737      16.233862            49.1\n",
              "27     17.9  17.398114  17.138294  17.344771      18.083448            40.5\n",
              "103    20.0  17.634727  17.851454  17.929657      18.429358            37.8\n",
              "\n",
              "[84 rows x 6 columns]"
            ]
          },
          "execution_count": null,
          "metadata": {},
          "output_type": "execute_result"
        }
      ],
      "source": [
        "predictions = pd.DataFrame({\"y_test\": y_test1,\n",
        "              \"Linear\": y_pred_linear,\n",
        "              \"Quadratic\": y_preds_quad,\n",
        "              \"Cubic\": y_pred_cubic,\n",
        "              \"Polynomial 10\": y_pred_degree10,\n",
        "              \"bill_length_mm\": X_test1[\"bill_length_mm\"]})\n",
        "predictions\n",
        "\n"
      ]
    },
    {
      "cell_type": "code",
      "execution_count": 19,
      "metadata": {
        "colab": {
          "base_uri": "https://localhost:8080/",
          "height": 497
        },
        "id": "OUCRmXpL8pHd",
        "outputId": "17974577-5159-434f-e38b-b2cbda54d928"
      },
      "outputs": [
        {
          "data": {
            "image/png": "[encoded data removed]"
          },
          "metadata": {},
          "output_type": "display_data"
        }
      ],
      "source": [
        "(ggplot(predictions, aes(x = \"bill_length_mm\", y = \"y_test\"))\n",
        " + geom_point()\n",
        " + geom_point(aes(y = \"Linear\"), color = \"orange\")\n",
        " + geom_point(aes(y = \"Quadratic\"), color = 'red')\n",
        " + geom_point(aes(y = \"Cubic\"), color = \"purple\")\n",
        " + geom_point(aes(y = \"Polynomial 10\"), color = 'blue')\n",
        " + labs(x = 'Bill Length (mm)', y = 'Bill Depth (mm)',\n",
        "      title = 'Fitted Models for Bill Depth vs. Bill Length')\n",
        ")\n"
      ]
    },
    {
      "cell_type": "markdown",
      "metadata": {
        "id": "Ph3lo8ExLSTG"
      },
      "source": [
        "* Are any of the models above underfitting the data? If so, which ones and how can you tell?\n",
        "* Are any of thhe models above overfitting the data? If so, which ones and how can you tell?\n",
        "* Which of the above models do you think fits the data best and why?"
      ]
    },
    {
      "cell_type": "markdown",
      "metadata": {
        "id": "11MIq5On_fHB"
      },
      "source": [
        "\n",
        "\n",
        "1. **Underfitting**:\n",
        "   - The **Linear model** (orange) appears to underfit the data. This is because it does not capture the curvature in the data, providing a very simplified, straight-line approximation. This model does not follow the general pattern of the data points and fails to account for the changes in bill depth across bill lengths.\n",
        "\n",
        "2. **Overfitting**:\n",
        "   - The **Polynomial 10 model** (blue) seems to overfit the data. This model captures small fluctuations, including the noise in the data, as evidenced by its erratic, wavy pattern. It closely follows each tiny variation, suggesting it may be fitting to noise rather than capturing the overall trend of the relationship.\n",
        "\n",
        "3. **Best Fit**:\n",
        "   - The **Quadratic** (red) and **Cubic** (purple) models seem to fit the data better compared to the others. They capture the main curvature in the data without fitting to noise excessively. Between the two, the **Cubic model** might provide the best fit since it captures a slight additional complexity that matches the data's shape without overfitting.\n"
      ]
    }
  ],
  "metadata": {
    "colab": {
      "provenance": []
    },
    "kernelspec": {
      "display_name": "Python 3 (ipykernel)",
      "language": "python",
      "name": "python3"
    },
    "language_info": {
      "codemirror_mode": {
        "name": "ipython",
        "version": 3
      },
      "file_extension": ".py",
      "mimetype": "text/x-python",
      "name": "python",
      "nbconvert_exporter": "python",
      "pygments_lexer": "ipython3",
      "version": "3.11.4"
    }
  },
  "nbformat": 4,
  "nbformat_minor": 0
}
