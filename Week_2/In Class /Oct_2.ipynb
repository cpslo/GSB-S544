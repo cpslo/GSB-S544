{
  "cells": [
    {
      "cell_type": "code",
      "execution_count": 4,
      "metadata": {
        "colab": {
          "base_uri": "https://localhost:8080/",
          "height": 347
        },
        "id": "RcArV_Hh0__n",
        "outputId": "198b3aff-8297-42e7-bd96-7356df956207"
      },
      "outputs": [
        {
          "name": "stdout",
          "output_type": "stream",
          "text": [
            "          country   1800   1801   1802  ...   2097   2098   2099   2100\n",
            "0     Afghanistan  3.28M  3.28M  3.28M  ...   128M   129M   130M   130M\n",
            "1          Angola  1.57M  1.57M  1.57M  ...   147M   148M   149M   150M\n",
            "2         Albania   400k   402k   404k  ...  1.23M  1.22M   1.2M  1.18M\n",
            "3         Andorra   2650   2650   2650  ...    49k  48.4k  47.8k  47.2k\n",
            "4             UAE  40.2k  40.2k  40.2k  ...  25.4M  25.7M  25.9M  26.1M\n",
            "..            ...    ...    ...    ...  ...    ...    ...    ...    ...\n",
            "192         Samoa  47.3k  47.3k  47.3k  ...   380k   381k   382k   384k\n",
            "193         Yemen  2.59M  2.59M  2.59M  ...   109M   109M   110M   110M\n",
            "194  South Africa  1.45M  1.45M  1.46M  ...  93.7M  93.9M  94.1M  94.3M\n",
            "195        Zambia   747k   758k   770k  ...  63.4M  63.8M  64.1M  64.5M\n",
            "196      Zimbabwe  1.09M  1.09M  1.09M  ...  36.9M    37M  37.1M  37.2M\n",
            "\n",
            "[197 rows x 302 columns]\n",
            "          country   1800   1801   1802  ...   2097   2098   2099   2100\n",
            "0     Afghanistan  3.28M  3.28M  3.28M  ...   128M   129M   130M   130M\n",
            "1          Angola  1.57M  1.57M  1.57M  ...   147M   148M   149M   150M\n",
            "2         Albania   400k   402k   404k  ...  1.23M  1.22M   1.2M  1.18M\n",
            "3         Andorra   2650   2650   2650  ...    49k  48.4k  47.8k  47.2k\n",
            "4             UAE  40.2k  40.2k  40.2k  ...  25.4M  25.7M  25.9M  26.1M\n",
            "..            ...    ...    ...    ...  ...    ...    ...    ...    ...\n",
            "192         Samoa  47.3k  47.3k  47.3k  ...   380k   381k   382k   384k\n",
            "193         Yemen  2.59M  2.59M  2.59M  ...   109M   109M   110M   110M\n",
            "194  South Africa  1.45M  1.45M  1.46M  ...  93.7M  93.9M  94.1M  94.3M\n",
            "195        Zambia   747k   758k   770k  ...  63.4M  63.8M  64.1M  64.5M\n",
            "196      Zimbabwe  1.09M  1.09M  1.09M  ...  36.9M    37M  37.1M  37.2M\n",
            "\n",
            "[197 rows x 302 columns]\n"
          ]
        }
      ],
      "source": [
        "# Population data from GapMinder\n",
        "import pandas as pd\n",
        "import numpy as np\n",
        "import matplotlib.pyplot as plt\n",
        "import seaborn as sns\n",
        "population = pd.read_csv(\"pop (1).csv\")\n",
        "print(population)"
      ]
    },
    {
      "cell_type": "code",
      "execution_count": 5,
      "metadata": {},
      "outputs": [
        {
          "name": "stdout",
          "output_type": "stream",
          "text": [
            "            country  year population\n",
            "0       Afghanistan  1800      3.28M\n",
            "1            Angola  1800      1.57M\n",
            "2           Albania  1800       400k\n",
            "3           Andorra  1800       2650\n",
            "4               UAE  1800      40.2k\n",
            "...             ...   ...        ...\n",
            "59292         Samoa  2100       384k\n",
            "59293         Yemen  2100       110M\n",
            "59294  South Africa  2100      94.3M\n",
            "59295        Zambia  2100      64.5M\n",
            "59296      Zimbabwe  2100      37.2M\n",
            "\n",
            "[59297 rows x 3 columns]\n",
            "            country  year population\n",
            "0       Afghanistan  1800      3.28M\n",
            "1            Angola  1800      1.57M\n",
            "2           Albania  1800       400k\n",
            "3           Andorra  1800       2650\n",
            "4               UAE  1800      40.2k\n",
            "...             ...   ...        ...\n",
            "59292         Samoa  2100       384k\n",
            "59293         Yemen  2100       110M\n",
            "59294  South Africa  2100      94.3M\n",
            "59295        Zambia  2100      64.5M\n",
            "59296      Zimbabwe  2100      37.2M\n",
            "\n",
            "[59297 rows x 3 columns]\n"
          ]
        }
      ],
      "source": [
        "long_population = population.melt(id_vars=[\"country\"], var_name=\"year\", value_name=\"population\")\n",
        "print(long_population)"
      ]
    },
    {
      "cell_type": "markdown",
      "metadata": {},
      "source": [
        "# Data Wrangling Suggestions\n",
        "\n",
        "Make it one consistent unit, so that it's not K and M. Make the K and M in numerical form. "
      ]
    },
    {
      "cell_type": "code",
      "execution_count": null,
      "metadata": {},
      "outputs": [],
      "source": [
        "population[\"pop_diff\"] = population[\"2010\"] - population[\"1950\"]"
      ]
    },
    {
      "cell_type": "markdown",
      "metadata": {},
      "source": [
        "Operation is not able to be done with the long version of dataset. \n",
        "Solution: taking the long version of the dataset and subsetting, filtering the rows and vectorizing the subtraction operation."
      ]
    },
    {
      "cell_type": "code",
      "execution_count": 7,
      "metadata": {},
      "outputs": [
        {
          "name": "stdout",
          "output_type": "stream",
          "text": [
            "year      country   1800   1801   1802  ...   2097   2098   2099   2100\n",
            "0     Afghanistan  3.28M  3.28M  3.28M  ...   128M   129M   130M   130M\n",
            "1         Albania   400k   402k   404k  ...  1.23M  1.22M   1.2M  1.18M\n",
            "2         Algeria   2.5M  2.51M  2.52M  ...  64.8M  64.7M  64.6M  64.5M\n",
            "3         Andorra   2650   2650   2650  ...    49k  48.4k  47.8k  47.2k\n",
            "4          Angola  1.57M  1.57M  1.57M  ...   147M   148M   149M   150M\n",
            "..            ...    ...    ...    ...  ...    ...    ...    ...    ...\n",
            "192     Venezuela     1M   978k   957k  ...  28.7M  28.6M  28.4M  28.3M\n",
            "193       Vietnam     4M   4.1M   4.2M  ...  93.2M  92.7M  92.2M  91.7M\n",
            "194         Yemen  2.59M  2.59M  2.59M  ...   109M   109M   110M   110M\n",
            "195        Zambia   747k   758k   770k  ...  63.4M  63.8M  64.1M  64.5M\n",
            "196      Zimbabwe  1.09M  1.09M  1.09M  ...  36.9M    37M  37.1M  37.2M\n",
            "\n",
            "[197 rows x 302 columns]\n",
            "year      country   1800   1801   1802  ...   2097   2098   2099   2100\n",
            "0     Afghanistan  3.28M  3.28M  3.28M  ...   128M   129M   130M   130M\n",
            "1         Albania   400k   402k   404k  ...  1.23M  1.22M   1.2M  1.18M\n",
            "2         Algeria   2.5M  2.51M  2.52M  ...  64.8M  64.7M  64.6M  64.5M\n",
            "3         Andorra   2650   2650   2650  ...    49k  48.4k  47.8k  47.2k\n",
            "4          Angola  1.57M  1.57M  1.57M  ...   147M   148M   149M   150M\n",
            "..            ...    ...    ...    ...  ...    ...    ...    ...    ...\n",
            "192     Venezuela     1M   978k   957k  ...  28.7M  28.6M  28.4M  28.3M\n",
            "193       Vietnam     4M   4.1M   4.2M  ...  93.2M  92.7M  92.2M  91.7M\n",
            "194         Yemen  2.59M  2.59M  2.59M  ...   109M   109M   110M   110M\n",
            "195        Zambia   747k   758k   770k  ...  63.4M  63.8M  64.1M  64.5M\n",
            "196      Zimbabwe  1.09M  1.09M  1.09M  ...  36.9M    37M  37.1M  37.2M\n",
            "\n",
            "[197 rows x 302 columns]\n"
          ]
        }
      ],
      "source": [
        "wide_population = long_population.pivot(index = \"country\", columns = \"year\", values = \"population\")\n",
        "wide_population = wide_population.reset_index()\n",
        "print(wide_population)"
      ]
    }
  ],
  "metadata": {
    "colab": {
      "provenance": []
    },
    "kernelspec": {
      "display_name": "Python 3",
      "name": "python3"
    },
    "language_info": {
      "name": "python"
    }
  },
  "nbformat": 4,
  "nbformat_minor": 0
}
