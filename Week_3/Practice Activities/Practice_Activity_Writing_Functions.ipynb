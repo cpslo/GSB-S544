{
  "nbformat": 4,
  "nbformat_minor": 0,
  "metadata": {
    "colab": {
      "provenance": []
    },
    "kernelspec": {
      "name": "python3",
      "display_name": "Python 3"
    },
    "language_info": {
      "name": "python"
    }
  },
  "cells": [
    {
      "cell_type": "code",
      "source": [
        "!pip install palmerpenguins"
      ],
      "metadata": {
        "id": "ft_WYOPgkcCM",
        "colab": {
          "base_uri": "https://localhost:8080/"
        },
        "outputId": "1aa64c1c-855c-4e7a-a920-b64e09fff06f"
      },
      "execution_count": 2,
      "outputs": [
        {
          "output_type": "stream",
          "name": "stdout",
          "text": [
            "Collecting palmerpenguins\n",
            "  Downloading palmerpenguins-0.1.4-py3-none-any.whl.metadata (2.0 kB)\n",
            "Requirement already satisfied: pandas in /usr/local/lib/python3.10/dist-packages (from palmerpenguins) (2.2.2)\n",
            "Requirement already satisfied: numpy in /usr/local/lib/python3.10/dist-packages (from palmerpenguins) (1.26.4)\n",
            "Requirement already satisfied: python-dateutil>=2.8.2 in /usr/local/lib/python3.10/dist-packages (from pandas->palmerpenguins) (2.8.2)\n",
            "Requirement already satisfied: pytz>=2020.1 in /usr/local/lib/python3.10/dist-packages (from pandas->palmerpenguins) (2024.2)\n",
            "Requirement already satisfied: tzdata>=2022.7 in /usr/local/lib/python3.10/dist-packages (from pandas->palmerpenguins) (2024.2)\n",
            "Requirement already satisfied: six>=1.5 in /usr/local/lib/python3.10/dist-packages (from python-dateutil>=2.8.2->pandas->palmerpenguins) (1.16.0)\n",
            "Downloading palmerpenguins-0.1.4-py3-none-any.whl (17 kB)\n",
            "Installing collected packages: palmerpenguins\n",
            "Successfully installed palmerpenguins-0.1.4\n"
          ]
        }
      ]
    },
    {
      "cell_type": "code",
      "execution_count": 3,
      "metadata": {
        "id": "b69ul3XcoRQv"
      },
      "outputs": [],
      "source": [
        "import numpy as np\n",
        "import pandas as pd\n",
        "from sys import exit\n",
        "from palmerpenguins import load_penguins\n",
        "from plotnine import ggplot, aes, geom_point, geom_bar"
      ]
    },
    {
      "cell_type": "markdown",
      "source": [
        "1. Fill in the necessary code to write a function called `times_seven()`. The function should take a single argument (`x`) and multiply the input by 7.\n",
        "  + This function should check that the argument is numeric.\n",
        "  + This function should also excitedly announce (print) *“I love sevens!”* if the argument to the function is a 7."
      ],
      "metadata": {
        "id": "1Q8_a-5qociG"
      }
    },
    {
      "cell_type": "code",
      "source": [
        "def times_seven(x):\n",
        "    if not isinstance(x, (int, float)):\n",
        "        exit(\"Input must be a number.\")\n",
        "\n",
        "    if x == 7:\n",
        "        print(\"I love sevens!\")\n",
        "\n",
        "    return x * 7"
      ],
      "metadata": {
        "id": "l5CW0nuloYzy"
      },
      "execution_count": 7,
      "outputs": []
    },
    {
      "cell_type": "markdown",
      "source": [
        "2. Write and run some *unit tests* for your `times_seven` function.  What happens if the input to the function is `[1, 3, 5, 7]`?"
      ],
      "metadata": {
        "id": "nonjYlruotrq"
      }
    },
    {
      "cell_type": "code",
      "source": [
        "print(times_seven(1))\n",
        "print(times_seven(3))\n",
        "print(times_seven(5))\n",
        "print(times_seven(7))"
      ],
      "metadata": {
        "colab": {
          "base_uri": "https://localhost:8080/"
        },
        "id": "0VLlYWmMNN9a",
        "outputId": "c518cd0f-12f6-43e6-ef50-7241f21ddae8"
      },
      "execution_count": 11,
      "outputs": [
        {
          "output_type": "stream",
          "name": "stdout",
          "text": [
            "7\n",
            "21\n",
            "35\n",
            "I love sevens!\n",
            "49\n"
          ]
        }
      ]
    },
    {
      "cell_type": "markdown",
      "source": [
        "- If the input function is [1, 3, 5, 7]"
      ],
      "metadata": {
        "id": "lypbhYPuOTQg"
      }
    },
    {
      "cell_type": "code",
      "source": [
        "print(times_seven([1, 3, 5, 7]))"
      ],
      "metadata": {
        "colab": {
          "base_uri": "https://localhost:8080/",
          "height": 89
        },
        "id": "4I2SoPSKOgOw",
        "outputId": "eba50d18-4998-4d7c-db50-131e131c6114"
      },
      "execution_count": 12,
      "outputs": [
        {
          "output_type": "error",
          "ename": "SystemExit",
          "evalue": "Input must be a number.",
          "traceback": [
            "An exception has occurred, use %tb to see the full traceback.\n",
            "\u001b[0;31mSystemExit\u001b[0m\u001b[0;31m:\u001b[0m Input must be a number.\n"
          ]
        }
      ]
    },
    {
      "cell_type": "markdown",
      "source": [
        "The input function [1,3,5,7] returns an error because the function only accepts numeric types like integers or floats. Since lists are not numeric, it results in the system exiting stating that the input must be a number."
      ],
      "metadata": {
        "id": "XcdGO8U9OhVF"
      }
    },
    {
      "cell_type": "markdown",
      "source": [
        "3. Consider the following function:"
      ],
      "metadata": {
        "id": "98sLHKBno39e"
      }
    },
    {
      "cell_type": "code",
      "source": [
        "def add_or_subtract(first_num, second_num = 2, type = \"add\"):\n",
        "\n",
        "  if (type == \"add\"):\n",
        "    res = first_num + second_num\n",
        "  elif (type == \"subtract\"):\n",
        "    res = first_num - second_num\n",
        "  else:\n",
        "    exit(\"Please choose `add` or `subtract` as the type.\")\n",
        "\n",
        "    return res"
      ],
      "metadata": {
        "id": "V1xGEwq-o5mh"
      },
      "execution_count": null,
      "outputs": []
    },
    {
      "cell_type": "markdown",
      "source": [
        "**Without running the code**, predict if the following will produce:\n",
        "\n",
        "a. 1\n",
        "\n",
        "b. -1\n",
        "\n",
        "c. 30\n",
        "\n",
        "d. An error defined by the function `add_or_subtract()`\n",
        "\n",
        "e. An error defined in a different function, which is called inside the `add_or_subtract()` function"
      ],
      "metadata": {
        "id": "KIzEYgR1pI0K"
      }
    },
    {
      "cell_type": "markdown",
      "source": [
        " Predictions for the cases:\n",
        "\n",
        "   add_or_subtract(5, 6, type = \"subtract\")\n",
        "   - Type: \"subtract\"\n",
        "   - First argument = 5 \"subtract\" Second Argument = 6\n",
        "   - 5-6 = -1\n",
        "   - The function will perform subtraction: 5 - 6, which equals -1.\n",
        "  - Prediction: b. -1\n",
        "\n",
        "\n",
        "\n",
        "add_or_subtract(\"orange\")\n",
        "  - Type: defaults to \"add\"\n",
        "  - Since \"orange\" is a string and not a number, attempting to add it to 2 will result in a TypeError\n",
        "  \n",
        "    - Prediction: e. An error defined in a different function, which is called inside the add_or_subtract() function\n",
        "\n",
        "   \n",
        "add_or_subtract(5, 6, type = \"multiply\")\n",
        "   -  Type: \"multiply\"\n",
        "   - Since \"multiply\" is not \"add\" or \"subtract\", the else condition will be triggered, and the function will call exit(\"Please choose addorsubtract as the type.\"), causing the program to exit with an error message.\n",
        "   \n",
        "    - Prediction: d. An error defined by the function add_or_subtract()"
      ],
      "metadata": {
        "id": "UKywvBBQS5mN"
      }
    },
    {
      "cell_type": "markdown",
      "source": [
        "4. Consider the following code:"
      ],
      "metadata": {
        "id": "Z0_cVjgdpOSr"
      }
    },
    {
      "cell_type": "code",
      "source": [
        "first_num  = 5\n",
        "second_num = 3\n",
        "\n",
        "result = 8\n",
        "\n",
        "result = add_or_subtract(first_num, second_num = 4)\n",
        "\n",
        "result_2 = add_or_subtract(first_num)"
      ],
      "metadata": {
        "id": "G4ImmGWGpekK"
      },
      "execution_count": null,
      "outputs": []
    },
    {
      "cell_type": "markdown",
      "source": [
        "\n",
        "In your Global Environment, what is the value of...\n",
        "\n",
        "a. `first_num`\n",
        "\n",
        "5\n",
        "\n",
        "b. `second_num`\n",
        "\n",
        "3\n",
        "\n",
        "c. `result`\n",
        "\n",
        "9\n",
        "\n",
        "d. `result_2`\n",
        "\n",
        "7"
      ],
      "metadata": {
        "id": "K0I7k29Qpjfo"
      }
    }
  ]
}